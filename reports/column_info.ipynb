{
 "cells": [
  {
   "cell_type": "markdown",
   "metadata": {},
   "source": [
    "# Columns\n",
    "\n",
    "**adsh** - Accession Number. The 20-character string formed from the 18-digit number assigned by the Commission to each EDGAR submission\n",
    "\n",
    "**cik** - Central Index Key (CIK). Ten digit number assigned by the Commission to each registrant that submits filings.\n",
    "\n",
    "**name** - name of the registrant This corresponds to the name of the legal entity as recorded in EDGAR as of the filing date.\n",
    "\n",
    "**ticker** - ticker symbol for the registrant\n",
    "\n",
    "**sector** - part of the economy the registrant normally operates in\n",
    "\n",
    "**period** - Balance sheet date(normally the end of a quarter)\n",
    "\n",
    "**stock_price** - the stock closing price for the period\n",
    "\n",
    "**next_period** - The next balance sheet date for the registrant\n",
    "\n",
    "**next_period_price** - the stock closing price for the next_period\n",
    "\n",
    "**beta** - measure of volatility/risk of a stock against the market.(daily for the previous quarter)\n",
    "\n",
    "**assets** - An asset is a resource with economic value that an individual, corporation or country owns or controls with the expectation that it will provide a future benefit\n",
    "\n",
    "**earnings_per_share_basic** - the portion of a company's profit allocated to each share of common stock\n",
    "\n",
    "**liabilities** - a company's legal financial debts or obligations that arise during the course of business operations\n",
    "\n",
    "**net_income_loss** - measure of how profitable a company is.\n",
    "\n",
    "**stockholders_equity** - the value left over for shareholders if a company would utilize its assets to meet its liability obligations\n",
    "\n",
    "**weighted_shares_outstanding_basic** - a company's stock currently held by all its shareholders taking into consideration any changes in the number of outstanding shares over a specific reporting period\n"
   ]
  }
 ],
 "metadata": {
  "kernelspec": {
   "display_name": "Python 3",
   "language": "python",
   "name": "python3"
  },
  "language_info": {
   "codemirror_mode": {
    "name": "ipython",
    "version": 3
   },
   "file_extension": ".py",
   "mimetype": "text/x-python",
   "name": "python",
   "nbconvert_exporter": "python",
   "pygments_lexer": "ipython3",
   "version": "3.7.0"
  }
 },
 "nbformat": 4,
 "nbformat_minor": 2
}
